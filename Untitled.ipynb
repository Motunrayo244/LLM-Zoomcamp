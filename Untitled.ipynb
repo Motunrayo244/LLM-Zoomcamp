{
 "cells": [
  {
   "cell_type": "code",
   "execution_count": 2,
   "id": "9ce6f214-adba-4cf9-9de2-e2a31a476825",
   "metadata": {},
   "outputs": [],
   "source": [
    "from openai import OpenAI\n",
    "import os"
   ]
  },
  {
   "cell_type": "code",
   "execution_count": 3,
   "id": "0f7072ce-68c5-41b2-a94c-cc8cf1010570",
   "metadata": {},
   "outputs": [],
   "source": [
    "client = OpenAI()"
   ]
  },
  {
   "cell_type": "code",
   "execution_count": 7,
   "id": "2588fe77-625d-4b96-9664-6211e116e4a4",
   "metadata": {},
   "outputs": [],
   "source": [
    "response = client.chat.completions.create(model='gpt-4o',\n",
    "                               messages=[{\"role\": \"user\", \"content\": \"is it too late to join the cource?\"}])"
   ]
  },
  {
   "cell_type": "code",
   "execution_count": 10,
   "id": "46b18ce0-a506-43f9-a729-69820d3e9108",
   "metadata": {},
   "outputs": [
    {
     "data": {
      "text/plain": [
       "\"It depends on the specific course you are referring to. Each course will have its own deadlines and enrollment policies. Here are a few general steps you can take to find out if it's too late to join a course:\\n\\n1. **Check the Course Website:** Look for dates related to enrollment deadlines, start dates, and any add/drop periods.\\n\\n2. **Contact the Instructor or Administrator:** Reach out via email or phone to ask about late enrollment options.\\n\\n3. **Read the Syllabus:** Sometimes, the syllabus or course outline will include important dates.\\n\\n4. **Consider Online Platforms:** If you’re looking at an online course (e.g., Coursera, edX, etc.), these platforms often allow for more flexible start dates.\\n\\n5. **Academic Advisor:** If this is a course through a school or university, an academic advisor can provide guidance.\\n\\nIf you've missed the official deadline, some courses do allow late enrollment for a period of time, possibly with a late fee. It's always worth asking!\""
      ]
     },
     "execution_count": 10,
     "metadata": {},
     "output_type": "execute_result"
    }
   ],
   "source": [
    "response.choices[0].message.content"
   ]
  },
  {
   "cell_type": "code",
   "execution_count": null,
   "id": "259aea63-5861-4cb8-b832-efe74e771e16",
   "metadata": {},
   "outputs": [],
   "source": []
  }
 ],
 "metadata": {
  "kernelspec": {
   "display_name": "Python 3 (ipykernel)",
   "language": "python",
   "name": "python3"
  },
  "language_info": {
   "codemirror_mode": {
    "name": "ipython",
    "version": 3
   },
   "file_extension": ".py",
   "mimetype": "text/x-python",
   "name": "python",
   "nbconvert_exporter": "python",
   "pygments_lexer": "ipython3",
   "version": "3.10.13"
  }
 },
 "nbformat": 4,
 "nbformat_minor": 5
}
